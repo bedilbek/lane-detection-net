{
 "cells": [
  {
   "cell_type": "code",
   "execution_count": 7,
   "metadata": {},
   "outputs": [],
   "source": [
    "from keras import Model, Sequential\n",
    "from keras.layers import Input, Flatten, Dense, Activation, Dropout, BatchNormalization, MaxPooling2D, Conv2D\n",
    "from keras.optimizers import Adam\n"
   ]
  },
  {
   "cell_type": "code",
   "execution_count": 11,
   "metadata": {},
   "outputs": [
    {
     "name": "stdout",
     "output_type": "stream",
     "text": [
      "_________________________________________________________________\n",
      "Layer (type)                 Output Shape              Param #   \n",
      "=================================================================\n",
      "conv2d_8 (Conv2D)            (None, 128, 128, 16)      160       \n",
      "_________________________________________________________________\n",
      "conv2d_9 (Conv2D)            (None, 64, 64, 32)        4640      \n",
      "_________________________________________________________________\n",
      "conv2d_10 (Conv2D)           (None, 32, 32, 64)        18496     \n",
      "_________________________________________________________________\n",
      "conv2d_11 (Conv2D)           (None, 16, 16, 64)        36928     \n",
      "_________________________________________________________________\n",
      "conv2d_12 (Conv2D)           (None, 8, 8, 64)          36928     \n",
      "_________________________________________________________________\n",
      "flatten_2 (Flatten)          (None, 4096)              0         \n",
      "_________________________________________________________________\n",
      "dense_4 (Dense)              (None, 32)                131104    \n",
      "_________________________________________________________________\n",
      "dense_5 (Dense)              (None, 32)                1056      \n",
      "_________________________________________________________________\n",
      "dense_6 (Dense)              (None, 64)                2112      \n",
      "_________________________________________________________________\n",
      "dense_7 (Dense)              (None, 3)                 195       \n",
      "=================================================================\n",
      "Total params: 231,619\n",
      "Trainable params: 231,619\n",
      "Non-trainable params: 0\n",
      "_________________________________________________________________\n"
     ]
    }
   ],
   "source": [
    "x = Sequential()\n",
    "x.add(Conv2D(16, kernel_size=(3, 3), activation='relu', strides=2, padding='same', input_shape=(256, 256, 1)))\n",
    "x.add(Conv2D(32, kernel_size=(3, 3), activation='relu', strides=2, padding='same'))\n",
    "x.add(Conv2D(64, kernel_size=(3, 3), activation='relu', strides=2, padding='same'))\n",
    "x.add(Conv2D(64, kernel_size=(3, 3), activation='relu', strides=2, padding='same'))\n",
    "x.add(Conv2D(64, kernel_size=(3, 3), activation='relu', strides=2, padding='same'))\n",
    "\n",
    "# Flatten the volume, FC => DENSE\n",
    "# define branch of output layers for the regression of steering\n",
    "x.add(Flatten())\n",
    "\n",
    "x.add(Dense(32, activation='relu'))\n",
    "x.add(Dense(32, activation='relu'))\n",
    "x.add(Dense(64, activation='relu'))\n",
    "x.add(Dense(3, activation='sigmoid'))\n",
    "\n",
    "\n",
    "x.compile(optimizer=Adam(lr=0.001, decay=1e-5), loss='mse', metrics=[\"accuracy\"])\n",
    "\n",
    "x.summary()\n"
   ]
  },
  {
   "cell_type": "code",
   "execution_count": 13,
   "metadata": {},
   "outputs": [
    {
     "name": "stdout",
     "output_type": "stream",
     "text": [
      "_________________________________________________________________\n",
      "Layer (type)                 Output Shape              Param #   \n",
      "=================================================================\n",
      "input_2 (InputLayer)         (None, 256, 256, 1)       0         \n",
      "_________________________________________________________________\n",
      "conv2d_18 (Conv2D)           (None, 128, 128, 16)      160       \n",
      "_________________________________________________________________\n",
      "conv2d_19 (Conv2D)           (None, 64, 64, 32)        4640      \n",
      "_________________________________________________________________\n",
      "conv2d_20 (Conv2D)           (None, 32, 32, 64)        18496     \n",
      "_________________________________________________________________\n",
      "conv2d_21 (Conv2D)           (None, 16, 16, 64)        36928     \n",
      "_________________________________________________________________\n",
      "conv2d_22 (Conv2D)           (None, 8, 8, 64)          36928     \n",
      "_________________________________________________________________\n",
      "flatten_4 (Flatten)          (None, 4096)              0         \n",
      "_________________________________________________________________\n",
      "dense_11 (Dense)             (None, 32)                131104    \n",
      "_________________________________________________________________\n",
      "dense_12 (Dense)             (None, 32)                1056      \n",
      "_________________________________________________________________\n",
      "dense_13 (Dense)             (None, 64)                2112      \n",
      "_________________________________________________________________\n",
      "dense_14 (Dense)             (None, 3)                 195       \n",
      "=================================================================\n",
      "Total params: 231,619\n",
      "Trainable params: 231,619\n",
      "Non-trainable params: 0\n",
      "_________________________________________________________________\n"
     ]
    }
   ],
   "source": [
    "final_act = 'sigmoid'\n",
    "input_shape = (256, 256, 1)\n",
    "inputs = Input(shape=input_shape)\n",
    "\n",
    "x = Conv2D(16, kernel_size=(3, 3), activation='relu', strides=2, padding='same')(inputs)\n",
    "x = Conv2D(32, kernel_size=(3, 3), activation='relu', strides=2, padding='same')(x)\n",
    "x = Conv2D(64, kernel_size=(3, 3), activation='relu', strides=2, padding='same')(x)\n",
    "x = Conv2D(64, kernel_size=(3, 3), activation='relu', strides=2, padding='same')(x)\n",
    "x = Conv2D(64, kernel_size=(3, 3), activation='relu', strides=2, padding='same')(x)\n",
    "\n",
    "# Flatten the volume, FC => DENSE\n",
    "# define branch of output layers for the regression of steering\n",
    "x = Flatten()(x)\n",
    "\n",
    "x = Dense(32, activation='relu')(x)\n",
    "x = Dense(32, activation='relu')(x)\n",
    "x = Dense(64, activation='relu')(x)\n",
    "x = Dense(3, activation=final_act)(x)\n",
    "\n",
    "model = Model(inputs=inputs, outputs=x, name='LaneControlNet')\n",
    "model.compile(optimizer=Adam(lr=0.001, decay=1e-5), loss='mse', metrics=[\"accuracy\"])\n",
    "model.summary()"
   ]
  }
 ],
 "metadata": {
  "kernelspec": {
   "display_name": "Python 3",
   "language": "python",
   "name": "python3"
  },
  "language_info": {
   "codemirror_mode": {
    "name": "ipython",
    "version": 3
   },
   "file_extension": ".py",
   "mimetype": "text/x-python",
   "name": "python",
   "nbconvert_exporter": "python",
   "pygments_lexer": "ipython3",
   "version": "3.6.7"
  }
 },
 "nbformat": 4,
 "nbformat_minor": 2
}
