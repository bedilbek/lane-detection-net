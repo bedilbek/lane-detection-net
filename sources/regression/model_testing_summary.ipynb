{
 "cells": [
  {
   "cell_type": "code",
   "execution_count": 1,
   "metadata": {},
   "outputs": [
    {
     "name": "stderr",
     "output_type": "stream",
     "text": [
      "Using TensorFlow backend.\n"
     ]
    }
   ],
   "source": [
    "from keras import Model, Sequential\n",
    "from keras.layers import Input, Flatten, Dense, Activation, Dropout, BatchNormalization, MaxPooling2D, Conv2D\n",
    "from keras.optimizers import Adam\n"
   ]
  },
  {
   "cell_type": "markdown",
   "metadata": {},
   "source": [
    "# First Model"
   ]
  },
  {
   "cell_type": "code",
   "execution_count": 2,
   "metadata": {},
   "outputs": [
    {
     "name": "stdout",
     "output_type": "stream",
     "text": [
      "WARNING:tensorflow:From /home/bedilbek/projects/smart_car_ai/venv/lib/python3.6/site-packages/tensorflow/python/framework/op_def_library.py:263: colocate_with (from tensorflow.python.framework.ops) is deprecated and will be removed in a future version.\n",
      "Instructions for updating:\n",
      "Colocations handled automatically by placer.\n",
      "_________________________________________________________________\n",
      "Layer (type)                 Output Shape              Param #   \n",
      "=================================================================\n",
      "conv2d_1 (Conv2D)            (None, 128, 128, 16)      160       \n",
      "_________________________________________________________________\n",
      "conv2d_2 (Conv2D)            (None, 64, 64, 32)        4640      \n",
      "_________________________________________________________________\n",
      "conv2d_3 (Conv2D)            (None, 32, 32, 64)        18496     \n",
      "_________________________________________________________________\n",
      "conv2d_4 (Conv2D)            (None, 16, 16, 64)        36928     \n",
      "_________________________________________________________________\n",
      "conv2d_5 (Conv2D)            (None, 8, 8, 64)          36928     \n",
      "_________________________________________________________________\n",
      "flatten_1 (Flatten)          (None, 4096)              0         \n",
      "_________________________________________________________________\n",
      "dense_1 (Dense)              (None, 32)                131104    \n",
      "_________________________________________________________________\n",
      "dense_2 (Dense)              (None, 32)                1056      \n",
      "_________________________________________________________________\n",
      "dense_3 (Dense)              (None, 64)                2112      \n",
      "_________________________________________________________________\n",
      "dense_4 (Dense)              (None, 3)                 195       \n",
      "=================================================================\n",
      "Total params: 231,619\n",
      "Trainable params: 231,619\n",
      "Non-trainable params: 0\n",
      "_________________________________________________________________\n"
     ]
    }
   ],
   "source": [
    "x = Sequential()\n",
    "x.add(Conv2D(16, kernel_size=(3, 3), activation='relu', strides=2, padding='same', input_shape=(256, 256, 1)))\n",
    "x.add(Conv2D(32, kernel_size=(3, 3), activation='relu', strides=2, padding='same'))\n",
    "x.add(Conv2D(64, kernel_size=(3, 3), activation='relu', strides=2, padding='same'))\n",
    "x.add(Conv2D(64, kernel_size=(3, 3), activation='relu', strides=2, padding='same'))\n",
    "x.add(Conv2D(64, kernel_size=(3, 3), activation='relu', strides=2, padding='same'))\n",
    "\n",
    "# Flatten the volume, FC => DENSE\n",
    "# define branch of output layers for the regression of steering\n",
    "x.add(Flatten())\n",
    "\n",
    "x.add(Dense(32, activation='relu'))\n",
    "x.add(Dense(32, activation='relu'))\n",
    "x.add(Dense(64, activation='relu'))\n",
    "x.add(Dense(3, activation='sigmoid'))\n",
    "\n",
    "\n",
    "x.compile(optimizer=Adam(lr=0.001, decay=1e-5), loss='mse', metrics=[\"accuracy\"])\n",
    "\n",
    "x.summary()\n"
   ]
  },
  {
   "cell_type": "markdown",
   "metadata": {},
   "source": [
    "# Second Model"
   ]
  },
  {
   "cell_type": "code",
   "execution_count": 7,
   "metadata": {},
   "outputs": [
    {
     "name": "stdout",
     "output_type": "stream",
     "text": [
      "_________________________________________________________________\n",
      "Layer (type)                 Output Shape              Param #   \n",
      "=================================================================\n",
      "conv2d_16 (Conv2D)           (None, 126, 126, 24)      624       \n",
      "_________________________________________________________________\n",
      "dropout_15 (Dropout)         (None, 126, 126, 24)      0         \n",
      "_________________________________________________________________\n",
      "conv2d_17 (Conv2D)           (None, 61, 61, 36)        21636     \n",
      "_________________________________________________________________\n",
      "dropout_16 (Dropout)         (None, 61, 61, 36)        0         \n",
      "_________________________________________________________________\n",
      "conv2d_18 (Conv2D)           (None, 29, 29, 48)        43248     \n",
      "_________________________________________________________________\n",
      "dropout_17 (Dropout)         (None, 29, 29, 48)        0         \n",
      "_________________________________________________________________\n",
      "conv2d_19 (Conv2D)           (None, 27, 27, 64)        27712     \n",
      "_________________________________________________________________\n",
      "dropout_18 (Dropout)         (None, 27, 27, 64)        0         \n",
      "_________________________________________________________________\n",
      "conv2d_20 (Conv2D)           (None, 25, 25, 64)        36928     \n",
      "_________________________________________________________________\n",
      "dropout_19 (Dropout)         (None, 25, 25, 64)        0         \n",
      "_________________________________________________________________\n",
      "flatten_4 (Flatten)          (None, 40000)             0         \n",
      "_________________________________________________________________\n",
      "dense_12 (Dense)             (None, 100)               4000100   \n",
      "_________________________________________________________________\n",
      "dropout_20 (Dropout)         (None, 100)               0         \n",
      "_________________________________________________________________\n",
      "dense_13 (Dense)             (None, 50)                5050      \n",
      "_________________________________________________________________\n",
      "dropout_21 (Dropout)         (None, 50)                0         \n",
      "_________________________________________________________________\n",
      "dense_14 (Dense)             (None, 10)                510       \n",
      "_________________________________________________________________\n",
      "dense_15 (Dense)             (None, 1)                 11        \n",
      "=================================================================\n",
      "Total params: 4,135,819\n",
      "Trainable params: 4,135,819\n",
      "Non-trainable params: 0\n",
      "_________________________________________________________________\n"
     ]
    }
   ],
   "source": [
    "        # utilize a lambda layer to convert the 3 channel input to a\n",
    "        # grayscale representation\n",
    "        # x = Lambda(lambda c: tf.image.rgb_to_grayscale(c)(inputs))\n",
    "\n",
    "        # CONV => RELU => BN => POOL\n",
    "        model = Sequential()\n",
    "        model.add(Conv2D(24, kernel_size=(5, 5), activation='elu', strides=2, padding='valid', input_shape=(256, 256, 1)))\n",
    "        model.add(Dropout(0.2))\n",
    "        model.add(Conv2D(36, kernel_size=(5, 5), activation='elu', strides=2, padding='valid'))\n",
    "        model.add(Dropout(0.2))\n",
    "        model.add(Conv2D(48, kernel_size=(5, 5), activation='elu', strides=2, padding='valid'))\n",
    "        model.add(Dropout(0.2))\n",
    "        model.add(Conv2D(64, kernel_size=(3, 3), activation='elu', padding='valid'))\n",
    "        model.add(Dropout(0.2))\n",
    "        model.add(Conv2D(64, kernel_size=(3, 3), activation='elu', padding='valid'))\n",
    "        model.add(Dropout(0.2))\n",
    "\n",
    "        # Flatten the volume, FC => DENSE\n",
    "        # define branch of output layers for the regression of steering\n",
    "        model.add(Flatten())\n",
    "\n",
    "        model.add(Dense(100, activation='elu'))\n",
    "        model.add(Dropout(0.5))\n",
    "        model.add(Dense(50, activation='elu'))\n",
    "        model.add(Dropout(0.5))\n",
    "        model.add(Dense(10, activation='elu'))\n",
    "        model.add(Dense(1, activation='sigmoid'))\n",
    "        \n",
    "        model.summary()\n"
   ]
  },
  {
   "cell_type": "code",
   "execution_count": 12,
   "metadata": {},
   "outputs": [
    {
     "name": "stdout",
     "output_type": "stream",
     "text": [
      "_________________________________________________________________\n",
      "Layer (type)                 Output Shape              Param #   \n",
      "=================================================================\n",
      "input_4 (InputLayer)         (None, 100, 55, 3)        0         \n",
      "_________________________________________________________________\n",
      "conv2d_30 (Conv2D)           (None, 50, 28, 32)        896       \n",
      "_________________________________________________________________\n",
      "dropout_34 (Dropout)         (None, 50, 28, 32)        0         \n",
      "_________________________________________________________________\n",
      "conv2d_31 (Conv2D)           (None, 25, 14, 64)        18496     \n",
      "_________________________________________________________________\n",
      "dropout_35 (Dropout)         (None, 25, 14, 64)        0         \n",
      "_________________________________________________________________\n",
      "conv2d_32 (Conv2D)           (None, 13, 7, 128)        73856     \n",
      "_________________________________________________________________\n",
      "dropout_36 (Dropout)         (None, 13, 7, 128)        0         \n",
      "_________________________________________________________________\n",
      "flatten_8 (Flatten)          (None, 11648)             0         \n",
      "_________________________________________________________________\n",
      "dense_19 (Dense)             (None, 100)               1164900   \n",
      "_________________________________________________________________\n",
      "dropout_37 (Dropout)         (None, 100)               0         \n",
      "_________________________________________________________________\n",
      "traffic_sign_output (Dense)  (None, 9)                 909       \n",
      "=================================================================\n",
      "Total params: 1,259,057\n",
      "Trainable params: 1,259,057\n",
      "Non-trainable params: 0\n",
      "_________________________________________________________________\n"
     ]
    }
   ],
   "source": [
    "width = 55\n",
    "height = 100\n",
    "channel = 3\n",
    "\n",
    "input_shape = (height, width, channel)\n",
    "\n",
    "inputs = Input(shape=input_shape)\n",
    "\n",
    "init = 'glorot_uniform'\n",
    "padding = 'same'\n",
    "\n",
    "# x = Conv2D(32, kernel_size=(3, 3), activation='relu', kernel_initializer=init, padding=padding)(inputs)\n",
    "x = Conv2D(32, kernel_size=(3, 3), activation='relu', strides=2, kernel_initializer=init, padding=padding)(inputs)\n",
    "x = Dropout(0.15)(x)\n",
    "# x = Conv2D(64, kernel_size=(3, 3), activation='relu', kernel_initializer=init, padding=padding)(x)\n",
    "x = Conv2D(64, kernel_size=(3, 3), activation='relu', strides=2, kernel_initializer=init, padding=padding)(x)\n",
    "x = Dropout(0.15)(x)\n",
    "# x = Conv2D(128, kernel_size=(3, 3), activation='relu', kernel_initializer=init, padding=padding)(x)\n",
    "x = Conv2D(128, kernel_size=(3, 3), activation='relu', strides=2, kernel_initializer=init, padding=padding)(x)\n",
    "x = Dropout(0.15)(x)\n",
    "\n",
    "# Flatten the volume, FC => DENSE\n",
    "# define branch of output layers for the regression of steering\n",
    "x = Flatten()(x)\n",
    "\n",
    "x = Dense(100, activation='relu', kernel_initializer=init)(x)\n",
    "x = Dropout(0.5)(x)\n",
    "x = Dense(9, activation='softmax', kernel_initializer=init, name='traffic_sign_output')(x)\n",
    "\n",
    "# create model using input (batch of images) and\n",
    "# number of outputs for image classification\n",
    "model = Model(inputs=inputs, outputs=x, name='TrafficSignNet')\n",
    "\n",
    "model.summary()\n"
   ]
  }
 ],
 "metadata": {
  "kernelspec": {
   "display_name": "Python 3",
   "language": "python",
   "name": "python3"
  },
  "language_info": {
   "codemirror_mode": {
    "name": "ipython",
    "version": 3
   },
   "file_extension": ".py",
   "mimetype": "text/x-python",
   "name": "python",
   "nbconvert_exporter": "python",
   "pygments_lexer": "ipython3",
   "version": "3.6.7"
  }
 },
 "nbformat": 4,
 "nbformat_minor": 2
}
